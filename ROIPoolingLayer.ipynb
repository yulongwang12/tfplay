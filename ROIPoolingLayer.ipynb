{
 "cells": [
  {
   "cell_type": "code",
   "execution_count": 1,
   "metadata": {
    "collapsed": true
   },
   "outputs": [],
   "source": [
    "import tensorflow as tf\n",
    "import numpy as np"
   ]
  },
  {
   "cell_type": "code",
   "execution_count": 2,
   "metadata": {
    "collapsed": false
   },
   "outputs": [],
   "source": [
    "def ROIPoolingLayer(inp, roi, pooled_h, pooled_w):\n",
    "    '''\n",
    "        inp: input feature, N x H x W x C\n",
    "        \n",
    "        roi: region of interests (roi) bbox\n",
    "             each one is [batch_idx, start_h, start_w, crop_h, crop_w]\n",
    "             !!! must be a list\n",
    "        \n",
    "        pooled_h/pooled_w: target h/w\n",
    "        \n",
    "        out: output feature N x ph x pw x C\n",
    "    '''\n",
    "    input_shape = inp.get_shape().as_list()\n",
    "    inp_h = input_shape[1]\n",
    "    inp_w = input_shape[2]\n",
    "    \n",
    "    roi_num = len(roi)\n",
    "    \n",
    "    outlist = []\n",
    "    for i in xrange(roi_num):\n",
    "        btch_i, st_h, st_w, cp_h, cp_w =  roi[i]\n",
    "        \n",
    "        pool_sz_h = cp_h // pooled_h\n",
    "        pool_sz_w = cp_w // pooled_w\n",
    "        \n",
    "        real_cp_h = pooled_h * pool_sz_h\n",
    "        real_cp_w = pooled_w * pool_sz_w\n",
    "        \n",
    "        cropped_feature = tf.slice(inp, [btch_i, st_h, st_w, 0], [1, real_cp_h, real_cp_w, -1])\n",
    "        \n",
    "        outlist.append(tf.nn.max_pool(cropped_feature, ksize=[1, pool_sz_h, pool_sz_w, 1], \\\n",
    "                                      strides=[1, pool_sz_h, pool_sz_w, 1], padding='SAME'))\n",
    "    \n",
    "    return tf.concat(0, outlist)"
   ]
  },
  {
   "cell_type": "code",
   "execution_count": 3,
   "metadata": {
    "collapsed": true
   },
   "outputs": [],
   "source": [
    "inp = np.zeros((2, 12, 12, 2))\n",
    "\n",
    "a = np.ones((6, 4))\n",
    "\n",
    "b = np.hstack((a, a*2))\n",
    "\n",
    "b = np.hstack((b, a*3))\n",
    "\n",
    "b = np.vstack((b, b*2))\n",
    "\n",
    "c = np.asarray([b, b*1.5])\n",
    "\n",
    "c = np.transpose(c, [1, 2, 0])\n",
    "\n",
    "inp[0] = c\n",
    "inp[1] = c+1\n",
    "\n",
    "roi = [[0, 6, 8, 6, 4], [1, 0, 0, 8, 5], [0, 3, 3, 4, 4]]"
   ]
  },
  {
   "cell_type": "code",
   "execution_count": 4,
   "metadata": {
    "collapsed": false
   },
   "outputs": [],
   "source": [
    "sess = tf.InteractiveSession()\n",
    "inp = tf.Variable(inp, dtype=tf.float32)\n",
    "\n",
    "sess.run(tf.initialize_all_variables())"
   ]
  },
  {
   "cell_type": "code",
   "execution_count": 5,
   "metadata": {
    "collapsed": false
   },
   "outputs": [],
   "source": [
    "out = ROIPoolingLayer(inp, roi, pooled_h=3, pooled_w=3)"
   ]
  },
  {
   "cell_type": "code",
   "execution_count": 7,
   "metadata": {
    "collapsed": false
   },
   "outputs": [],
   "source": [
    "o = sess.run(out)"
   ]
  },
  {
   "cell_type": "code",
   "execution_count": 8,
   "metadata": {
    "collapsed": false
   },
   "outputs": [
    {
     "data": {
      "text/plain": [
       "(3, 3, 3, 2)"
      ]
     },
     "execution_count": 8,
     "metadata": {},
     "output_type": "execute_result"
    }
   ],
   "source": [
    "o.shape"
   ]
  },
  {
   "cell_type": "code",
   "execution_count": 9,
   "metadata": {
    "collapsed": false
   },
   "outputs": [
    {
     "data": {
      "text/plain": [
       "array([[ 6.,  6.,  6.],\n",
       "       [ 6.,  6.,  6.],\n",
       "       [ 6.,  6.,  6.]], dtype=float32)"
      ]
     },
     "execution_count": 9,
     "metadata": {},
     "output_type": "execute_result"
    }
   ],
   "source": [
    "o[0, :, :, 0]"
   ]
  },
  {
   "cell_type": "code",
   "execution_count": 10,
   "metadata": {
    "collapsed": false
   },
   "outputs": [
    {
     "data": {
      "text/plain": [
       "array([[ 2.5,  2.5,  2.5],\n",
       "       [ 2.5,  2.5,  2.5],\n",
       "       [ 2.5,  2.5,  2.5]], dtype=float32)"
      ]
     },
     "execution_count": 10,
     "metadata": {},
     "output_type": "execute_result"
    }
   ],
   "source": [
    "o[1, :, :, 1]"
   ]
  },
  {
   "cell_type": "code",
   "execution_count": 11,
   "metadata": {
    "collapsed": false
   },
   "outputs": [
    {
     "data": {
      "text/plain": [
       "array([[ 1.5,  3. ,  3. ],\n",
       "       [ 1.5,  3. ,  3. ],\n",
       "       [ 1.5,  3. ,  3. ]], dtype=float32)"
      ]
     },
     "execution_count": 11,
     "metadata": {},
     "output_type": "execute_result"
    }
   ],
   "source": [
    "o[2, :, :, 1]"
   ]
  }
 ],
 "metadata": {
  "kernelspec": {
   "display_name": "Python 2",
   "language": "python",
   "name": "python2"
  },
  "language_info": {
   "codemirror_mode": {
    "name": "ipython",
    "version": 2
   },
   "file_extension": ".py",
   "mimetype": "text/x-python",
   "name": "python",
   "nbconvert_exporter": "python",
   "pygments_lexer": "ipython2",
   "version": "2.7.6"
  }
 },
 "nbformat": 4,
 "nbformat_minor": 0
}
