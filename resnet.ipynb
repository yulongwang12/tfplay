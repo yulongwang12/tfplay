{
 "cells": [
  {
   "cell_type": "code",
   "execution_count": 6,
   "metadata": {
    "collapsed": true
   },
   "outputs": [],
   "source": [
    "import tensorflow as tf\n",
    "import numpy as np"
   ]
  },
  {
   "cell_type": "code",
   "execution_count": 2,
   "metadata": {
    "collapsed": true
   },
   "outputs": [],
   "source": [
    "from tensorflow.models.image.cifar10 import cifar10"
   ]
  },
  {
   "cell_type": "code",
   "execution_count": 9,
   "metadata": {
    "collapsed": true
   },
   "outputs": [],
   "source": [
    "# inp: N x H x W x C\n",
    "# filter: H x W x C x N\n",
    "def ReLU():\n",
    "    return tf.nn.relu\n",
    "\n",
    "def Identity():\n",
    "    return tf.identity\n",
    "\n",
    "def Sigmoid():\n",
    "    return tf.sigmoid\n",
    "\n",
    "def Tanh():\n",
    "    return tf.tanh\n",
    "\n",
    "def Softmax():\n",
    "    return tf.nn.softmax"
   ]
  },
  {
   "cell_type": "code",
   "execution_count": null,
   "metadata": {
    "collapsed": true
   },
   "outputs": [],
   "source": [
    "def XavierNormal(gain=0.01):\n",
    "    def sample(fan_in, fan_out, receptive_field_size):\n",
    "        stddev = gain * tf.sqrt(2 / ((fan_in + fan_out)) * receptive_field_size)\n",
    "        return tf.random_normal_initializer(mean=0.0, stddev=stddev)\n",
    "    return sample"
   ]
  },
  {
   "cell_type": "code",
   "execution_count": 5,
   "metadata": {
    "collapsed": false
   },
   "outputs": [],
   "source": [
    "def ConvLayer(inp, name, num_units, kernel_size, stride, pad='SAME', \n",
    "              Winit=XavierNormal(), binit=None, nonlinearity=Identity):\n",
    "    shape = inp.get_shape().as_list()\n",
    "    in_channel = shape[3]\n",
    "    \n",
    "    Wshape = [kernel_size, kernel_size, in_channel, num_units]\n",
    "    fan_in = in_channel\n",
    "    fan_out = num_units\n",
    "    rfs = kernel_size * kernel_size\n",
    "        \n",
    "    with tf.variable_scope(name) as scope:\n",
    "        W = tf.get_variable('weights', Wshape, Winit(fan_in, fan_out, rfs))\n",
    "        conv = tf.nn.conv2d(inp, W, strides=[1, stride, stride, 1], pad=pad)\n",
    "        if binit != None:\n",
    "            b = tf.get_variable('biases', [num_units], binit)\n",
    "            conv = tf.nn.bias_add(conv, b)\n",
    "        \n",
    "        return nonlinearity(conv)"
   ]
  },
  {
   "cell_type": "code",
   "execution_count": 7,
   "metadata": {
    "collapsed": false
   },
   "outputs": [
    {
     "ename": "SyntaxError",
     "evalue": "invalid syntax (<ipython-input-7-107dc5bd92e7>, line 9)",
     "output_type": "error",
     "traceback": [
      "\u001b[1;36m  File \u001b[1;32m\"<ipython-input-7-107dc5bd92e7>\"\u001b[1;36m, line \u001b[1;32m9\u001b[0m\n\u001b[1;33m    fan_in =\u001b[0m\n\u001b[1;37m            ^\u001b[0m\n\u001b[1;31mSyntaxError\u001b[0m\u001b[1;31m:\u001b[0m invalid syntax\n"
     ]
    }
   ],
   "source": [
    "def FcLayer(inp, name, num_units, Winit=XavierNormal(), binit=None, nonlinearity=Identity):\n",
    "    shape = inp.get_shape().as_list()\n",
    "    feature_size = shape[1]\n",
    "    \n",
    "    if len(shape) > 2:\n",
    "        inp = FlattenLayer(inp)\n",
    "        feature_size = np.prod(shape[1:])\n",
    "    \n",
    "    fan_in =\n",
    "    fan_out = \n",
    "    rfs =\n",
    "    \n",
    "    with tf.variable_scope(name) as scope:\n",
    "        W = tf.get_variable('weights', [feature_size, num_units], Winit(fan_in, fan_out, rfs))\n",
    "        fc = tf.matmul(inp, W)\n",
    "        if binit != None:\n",
    "            b = tf.get_variable('biases', [num_units], binit)\n",
    "            fc = tf.nn.bias_add(fc, b)\n",
    "        \n",
    "        return nonlinearity(fc)"
   ]
  },
  {
   "cell_type": "code",
   "execution_count": null,
   "metadata": {
    "collapsed": true
   },
   "outputs": [],
   "source": []
  }
 ],
 "metadata": {
  "kernelspec": {
   "display_name": "Python 2",
   "language": "python",
   "name": "python2"
  },
  "language_info": {
   "codemirror_mode": {
    "name": "ipython",
    "version": 2
   },
   "file_extension": ".py",
   "mimetype": "text/x-python",
   "name": "python",
   "nbconvert_exporter": "python",
   "pygments_lexer": "ipython2",
   "version": "2.7.6"
  }
 },
 "nbformat": 4,
 "nbformat_minor": 0
}
