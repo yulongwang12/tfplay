{
 "cells": [
  {
   "cell_type": "code",
   "execution_count": 1,
   "metadata": {
    "collapsed": true
   },
   "outputs": [],
   "source": [
    "import tensorflow as tf"
   ]
  },
  {
   "cell_type": "code",
   "execution_count": 2,
   "metadata": {
    "collapsed": true
   },
   "outputs": [],
   "source": [
    "class Preprocessor(object):\n",
    "    \n",
    "    def __init_(self, list_of_process_functions):\n",
    "        self.list_of_process_functions = list_of_process_functions\n",
    "    \n",
    "    def __call__(self, inputs):\n",
    "        for fn in self.list_of_process_functions:\n",
    "            inputs = fn(inputs)\n",
    "        \n",
    "        return inputs\n",
    "\n",
    "    \n",
    "class ImageReader(object):\n",
    "    \n",
    "    def __init__(self, reader, decorder, preprocessor):\n",
    "        self.reader = reader\n",
    "        self.decorder = decorder\n",
    "        self.preprocessor = preprocessor\n",
    "        \n",
    "    def __call__(self, filename_queue):\n",
    "        key, records = self.reader.read(filename_queue)\n",
    "        image = self.decorder(records)\n",
    "        processed_image = self.preprocessor(image)\n",
    "        \n",
    "        return processed_image\n",
    "\n",
    "\n",
    "class ImageAnnotationReader(object):\n",
    "    \n",
    "    def __init__(self, file_reader, img_decorder, annotation_decorder, preprocessor):\n",
    "        pass\n",
    "    \n",
    "    def __call__(self, filename_queue):\n",
    "        \n",
    "        filename = filename_queue.deque()\n",
    "        \n",
    "        key, contents = tf.read_file(filename + '.jpg')\n",
    "        \n",
    "        img = self.img_decorder(contents)\n",
    "        \n",
    "        key, contents = self.read_file(file_name + '.xml')\n",
    "        \n",
    "        annotation = self.annotation_decorder(contents)\n",
    "        \n",
    "        processed_image = self.preprocessor(image)\n",
    "        \n",
    "        return processed_image, annotation"
   ]
  }
 ],
 "metadata": {
  "kernelspec": {
   "display_name": "Python 2",
   "language": "python",
   "name": "python2"
  },
  "language_info": {
   "codemirror_mode": {
    "name": "ipython",
    "version": 2
   },
   "file_extension": ".py",
   "mimetype": "text/x-python",
   "name": "python",
   "nbconvert_exporter": "python",
   "pygments_lexer": "ipython2",
   "version": "2.7.6"
  }
 },
 "nbformat": 4,
 "nbformat_minor": 0
}
